{
 "cells": [
  {
   "cell_type": "code",
   "execution_count": 1,
   "id": "c20625ba",
   "metadata": {},
   "outputs": [
    {
     "name": "stderr",
     "output_type": "stream",
     "text": [
      "/Users/hudanyunsheng/miniforge3/envs/jpfaq/lib/python3.10/site-packages/tqdm/auto.py:21: TqdmWarning: IProgress not found. Please update jupyter and ipywidgets. See https://ipywidgets.readthedocs.io/en/stable/user_install.html\n",
      "  from .autonotebook import tqdm as notebook_tqdm\n"
     ]
    },
    {
     "name": "stdout",
     "output_type": "stream",
     "text": [
      "/Users/hudanyunsheng/Documents/GitHub/JP_FAQ/notebooks\n"
     ]
    }
   ],
   "source": [
    "import os\n",
    "from unstructured.partition.pdf import partition_pdf\n",
    "\n",
    "\n",
    "# Get the current working directory\n",
    "current_working_directory = os.getcwd()\n",
    "# Print the current working directory\n",
    "print(current_working_directory)"
   ]
  },
  {
   "cell_type": "markdown",
   "id": "9a5dc826",
   "metadata": {},
   "source": [
    "```\n",
    "conda install conda-forge::poppler  \n",
    "conda install conda-forge::tesseract  \n",
    "```"
   ]
  },
  {
   "cell_type": "markdown",
   "id": "e5a1512b",
   "metadata": {},
   "source": [
    "On Mac:  \n",
    "`brew install tesseract`  \n",
    "`brew install poppler-utils`"
   ]
  },
  {
   "cell_type": "code",
   "execution_count": 3,
   "id": "37eafa8d",
   "metadata": {},
   "outputs": [],
   "source": [
    "# from unstructured_inference.models.tables import cells_to_html"
   ]
  },
  {
   "cell_type": "code",
   "execution_count": 109,
   "id": "80a470ef",
   "metadata": {},
   "outputs": [],
   "source": [
    "# path_pdf = \"../data/JP Label/stelara iv Japanese PI.pdf\"\n",
    "path_pdf = \"../data/JP Label/stelara sc Japanese PI.pdf\"\n",
    "filename = path_pdf.split(\"/\")[-1].split(\".pdf\")[0]\n",
    "dir_partitions = \"../output/JP Label images partition/\"\n",
    "if not os.path.exists(dir_partitions):\n",
    "    os.makedirs(dir_partitions)"
   ]
  },
  {
   "cell_type": "code",
   "execution_count": 110,
   "id": "4fdaa0d8",
   "metadata": {},
   "outputs": [],
   "source": [
    "raw_pdf_elements = partition_pdf(\n",
    "    filename=path_pdf,                  # mandatory\n",
    "    strategy=\"hi_res\",                                     # mandatory to use ``hi_res`` strategy\n",
    "    extract_images_in_pdf=True,                            # mandatory to set as ``True``\n",
    "    extract_image_block_types=[\"Image\", \"Table\"],          # optional\n",
    "    extract_image_block_to_payload=False,                  # optional\n",
    "    extract_image_block_output_dir=dir_partitions + filename, #.split(\".\")[0] + \"/\",  # optional - only works when \n",
    "    chunking_strategy=\"by_title\",\n",
    "    # extract_image_block_to_payload=True\n",
    "    multipage_sections = \"False\",\n",
    "    include_page_breaks = \"False\",\n",
    "    )"
   ]
  },
  {
   "cell_type": "code",
   "execution_count": 111,
   "id": "a9089581",
   "metadata": {},
   "outputs": [
    {
     "name": "stdout",
     "output_type": "stream",
     "text": [
      "In total 42 elements\n",
      "Categories of all elements are: {'CompositeElement', 'Table'}\n"
     ]
    }
   ],
   "source": [
    "print(f\"In total {len(raw_pdf_elements)} elements\")\n",
    "ele_types = set([ele.category for ele in raw_pdf_elements])\n",
    "print(f\"Categories of all elements are: {ele_types}\")"
   ]
  },
  {
   "cell_type": "code",
   "execution_count": 113,
   "id": "b2a3e732",
   "metadata": {},
   "outputs": [
    {
     "name": "stdout",
     "output_type": "stream",
     "text": [
      "7 tables\n"
     ]
    }
   ],
   "source": [
    "ele_groups = dict((key, []) for key in ele_types)\n",
    "\n",
    "for ele in raw_pdf_elements:\n",
    "    ele_groups[ele.category].append(ele)\n",
    "print(f\"{len(ele_groups['Table'])} tables\")"
   ]
  },
  {
   "cell_type": "code",
   "execution_count": 114,
   "id": "9ee8f5db",
   "metadata": {},
   "outputs": [],
   "source": [
    "info_tables = [x.to_dict() for x in ele_groups['Table']]\n",
    "info_images = [x.to_dict() for x in ele_groups['CompositeElement']]"
   ]
  },
  {
   "cell_type": "code",
   "execution_count": 115,
   "id": "d3d79e16",
   "metadata": {},
   "outputs": [],
   "source": [
    "from collections import defaultdict\n",
    "\n",
    "info_tables_page = defaultdict(list)\n",
    "for info_table in info_tables:\n",
    "    pg = info_table['metadata']['page_number']\n",
    "    info_tables_page[f\"page {pg}\"].append(info_table)\n",
    "\n",
    "info_images_page = defaultdict(list)\n",
    "for info_image in info_images:\n",
    "    pg = info_table['metadata']['page_number']\n",
    "    info_images_page[f\"page {pg}\"].append(info_image)"
   ]
  },
  {
   "cell_type": "code",
   "execution_count": 116,
   "id": "3f3cf8b0",
   "metadata": {},
   "outputs": [
    {
     "data": {
      "text/plain": [
       "'販売名 ステラーラ皮下注45mgシリンジ 有効成分 （1シリンジ0.5mL中） ウステキヌマブ（遺伝子組換え）45mg含有 添加剤 精製白糖38mg、L-ヒスチジン0.5mg、ポリソ ルベート80 0.02mg'"
      ]
     },
     "execution_count": 116,
     "metadata": {},
     "output_type": "execute_result"
    }
   ],
   "source": [
    "info_tables_page[\"page 1\"][0]['text']"
   ]
  },
  {
   "cell_type": "code",
   "execution_count": 117,
   "id": "5964c954",
   "metadata": {},
   "outputs": [],
   "source": [
    "import re\n",
    "import pymupdf"
   ]
  },
  {
   "cell_type": "code",
   "execution_count": 118,
   "id": "65067201",
   "metadata": {},
   "outputs": [],
   "source": [
    "texts = []\n",
    "doc = pymupdf.open(path_pdf) # open a document\n",
    "for page in doc: # iterate the document pages\n",
    "    text = page.get_text() # get plain text encoded as UTF-8\n",
    "    texts.append(text)"
   ]
  },
  {
   "cell_type": "code",
   "execution_count": 119,
   "id": "711b89f2",
   "metadata": {},
   "outputs": [
    {
     "name": "stdout",
     "output_type": "stream",
     "text": [
      "Page 1:\n",
      "4 tables\n",
      "Page 2:\n",
      "1 tables\n",
      "Page 3:\n",
      "2 tables\n",
      "Page 4:\n",
      "2 tables\n"
     ]
    }
   ],
   "source": [
    "tbs = {}\n",
    "bboxes = {}\n",
    "n = 1\n",
    "for page in doc:\n",
    "    tbs[f\"page {n}\"] = []\n",
    "    bboxes[f\"page {n}\"] = []\n",
    "    print(f\"Page {n}:\")\n",
    "    n_tb = 0\n",
    "    for tb in page.find_tables(vertical_strategy=\"lines_strict\", horizontal_strategy=\"lines_strict\", snap_x_tolerance=1): \n",
    "        # print(len(tb.cells))\n",
    "        n_tb += 1\n",
    "        tbs[f\"page {n}\"].append(tb.extract())\n",
    "        bboxes[f\"page {n}\"].append(tb.bbox) # x0, y0, x1, y1\n",
    "    n += 1\n",
    "    print(f\"{n_tb} tables\")"
   ]
  },
  {
   "cell_type": "code",
   "execution_count": 120,
   "id": "d588b9d7",
   "metadata": {},
   "outputs": [
    {
     "data": {
      "text/plain": [
       "[['販売名', 'ステラーラ皮下注45mgシリンジ'],\n",
       " ['有効成分', '（1シリンジ0.5mL中）\\nウステキヌマブ（遺伝子組換え）45mg含有'],\n",
       " ['添加剤', '精製白糖38mg、L-ヒスチジン0.5mg、ポリソ\\nルベート80 0.02mg']]"
      ]
     },
     "execution_count": 120,
     "metadata": {},
     "output_type": "execute_result"
    }
   ],
   "source": [
    "tbs['page 1'][2]"
   ]
  },
  {
   "cell_type": "code",
   "execution_count": 121,
   "id": "bc7324f5",
   "metadata": {},
   "outputs": [],
   "source": [
    "text = \"\\n\".join(texts)\n",
    "result = {}\n",
    "current_key = ''\n",
    "lines = text.splitlines()\n",
    "for line in lines:\n",
    "    section_match = re.match(r'^(\\d+\\.\\s+.+)', line)\n",
    "    if section_match:\n",
    "        # current_key = line.split(' ', 1)[1]\n",
    "        current_key = section_match.group(1).strip()\n",
    "        result[current_key] = []\n",
    "    else:\n",
    "        if current_key in result:\n",
    "            result[current_key].append(line.strip())"
   ]
  },
  {
   "cell_type": "code",
   "execution_count": 122,
   "id": "b2734927",
   "metadata": {},
   "outputs": [
    {
     "data": {
      "text/plain": [
       "[[['貯 法：2～8℃で保存すること\\n有効期間：36ヵ月', '日本標準商品分類番号'], [None, '873999']],\n",
       " [['Stelara Subcutaneous Injection\\n※注意－医師等の処方箋により使用すること',\n",
       "   '承認番号',\n",
       "   '22300AMX00422000'],\n",
       "  [None, '販売開始', '2011年3月']],\n",
       " [['販売名', 'ステラーラ皮下注45mgシリンジ'],\n",
       "  ['有効成分', '（1シリンジ0.5mL中）\\nウステキヌマブ（遺伝子組換え）45mg含有'],\n",
       "  ['添加剤', '精製白糖38mg、L-ヒスチジン0.5mg、ポリソ\\nルベート80 0.02mg']],\n",
       " [['色・性状', '無色～淡黄色の澄明又はわずかに混濁した液'],\n",
       "  ['pH', '5.7～6.3'],\n",
       "  ['浸透圧比', '約1（生理食塩液に対する比）']]]"
      ]
     },
     "execution_count": 122,
     "metadata": {},
     "output_type": "execute_result"
    }
   ],
   "source": [
    "tbs[\"page 1\"]"
   ]
  },
  {
   "cell_type": "code",
   "execution_count": 123,
   "id": "3ae6917e",
   "metadata": {},
   "outputs": [],
   "source": [
    "# def parse_format_1(data):\n",
    "#     # Extract the main sections\n",
    "#     main_parts = data.split(' 投与量 ')\n",
    "#     weight_part = main_parts[0].replace('患者体重 ', '')\n",
    "#     dose_part = main_parts[1]\n",
    "\n",
    "#     # Split the weight and dose parts\n",
    "#     weights = re.split(r' (?=\\d+kg)', weight_part)\n",
    "#     doses = dose_part.split(' ')\n",
    "\n",
    "#     # Combine into the structured format\n",
    "#     structured_format = [['患者体重', '投与量']]\n",
    "#     for weight, dose in zip(weights, doses):\n",
    "#         structured_format.append([weight, dose])\n",
    "\n",
    "#     return structured_format\n",
    "    \n",
    "# parse_format_1(info_tables_page[1][0]['text'])"
   ]
  },
  {
   "cell_type": "code",
   "execution_count": 124,
   "id": "e1b40eb8",
   "metadata": {},
   "outputs": [],
   "source": [
    "# def convert_format_2_to_string(data):\n",
    "#     # Combine header\n",
    "#     header = f\"{data[0][0]} {data[0][1]}\"\n",
    "    \n",
    "#     # Combine the rest of the data\n",
    "#     body = ' '.join([f\"{item[0]} {item[1]}\" for item in data[1:]])\n",
    "    \n",
    "#     # Combine header and body into one string\n",
    "#     return f\"{header} {body}\"\n",
    "\n",
    "# convert_format_2_to_string(tbs['page 1'][2])"
   ]
  },
  {
   "cell_type": "code",
   "execution_count": 127,
   "id": "65191fc7",
   "metadata": {},
   "outputs": [
    {
     "data": {
      "text/plain": [
       "'販売名 ステラーラ皮下注45mgシリンジ 有効成分 （1シリンジ0.5mL中） ウステキヌマブ（遺伝子組換え）45mg含有 添加剤 精製白糖38mg、L-ヒスチジン0.5mg、ポリソ ルベート80 0.02mg'"
      ]
     },
     "execution_count": 127,
     "metadata": {},
     "output_type": "execute_result"
    }
   ],
   "source": [
    "info_tables_page[\"page 1\"][0]['text']"
   ]
  },
  {
   "cell_type": "code",
   "execution_count": 129,
   "id": "5a44b533",
   "metadata": {},
   "outputs": [
    {
     "data": {
      "text/plain": [
       "0.9809523809523809"
      ]
     },
     "execution_count": 129,
     "metadata": {},
     "output_type": "execute_result"
    }
   ],
   "source": [
    "import difflib\n",
    "def compare_strings_similarity(str1, str2):\n",
    "    return difflib.SequenceMatcher(None, str1, str2).ratio()\n",
    "\n",
    "compare_strings_similarity(info_tables_page[\"page 1\"][0]['text'], convert_format_2_to_string(tbs['page 1'][2]))"
   ]
  },
  {
   "cell_type": "code",
   "execution_count": 130,
   "id": "c9c9c5be",
   "metadata": {},
   "outputs": [
    {
     "data": {
      "text/plain": [
       "0.9809523809523809"
      ]
     },
     "execution_count": 130,
     "metadata": {},
     "output_type": "execute_result"
    }
   ],
   "source": [
    "compare_strings_similarity(info_tables_page[\"page 1\"][0]['text'], ' '.join([item for sublist in tbs['page 1'][2] for item in sublist]))"
   ]
  },
  {
   "cell_type": "code",
   "execution_count": 131,
   "id": "0a6cc15d",
   "metadata": {},
   "outputs": [
    {
     "data": {
      "text/plain": [
       "{'page 1': {0: [0.08108108108108109,\n",
       "   0.05235602094240838,\n",
       "   0.9809523809523809,\n",
       "   0.07453416149068323],\n",
       "  1: [0.08080808080808081, 0.07042253521126761, 0.07453416149068323, 1.0]},\n",
       " 'page 2': {0: [0.8560460652591171]},\n",
       " 'page 3': {0: [0.4217391304347826, 0.2057877813504823],\n",
       "  1: [0.026578073089700997, 0.9605263157894737]},\n",
       " 'page 4': {0: [0.8247422680412371, 0.582010582010582],\n",
       "  1: [0.6666666666666666, 0.9519230769230769]}}"
      ]
     },
     "execution_count": 131,
     "metadata": {},
     "output_type": "execute_result"
    }
   ],
   "source": [
    "scores = dict()\n",
    "for pg, tbs_p in tbs.items():\n",
    "    info_tbs_p = info_tables_page[pg]\n",
    "    scores[pg] = dict()\n",
    "\n",
    "    # one-to-one comparison\n",
    "    for i in range(len(info_tbs_p)):\n",
    "        info_tb = info_tbs_p[i]\n",
    "        scores[pg][i] = []#dict()\n",
    "        \n",
    "        for j in range(len(tbs_p)):\n",
    "            tb_p = tbs_p[j]           \n",
    "            # scores[pg][i][j] = compare_strings_similarity(info_tb['text'], ' '.join([item for sublist in tb_p for item in sublist if item is not None]))\n",
    "            scores[pg][i].append(compare_strings_similarity(info_tb['text'], ' '.join([item for sublist in tb_p for item in sublist if item is not None])))\n",
    "scores"
   ]
  },
  {
   "cell_type": "code",
   "execution_count": 132,
   "id": "6ca8b814",
   "metadata": {},
   "outputs": [
    {
     "name": "stdout",
     "output_type": "stream",
     "text": [
      "page 1\n",
      "\t{'type': 'Table', 'element_id': '6add13b77fa2ee0f4f10a3b26921f094', 'text': '販売名 ステラーラ皮下注45mgシリンジ 有効成分 （1シリンジ0.5mL中） ウステキヌマブ（遺伝子組換え）45mg含有 添加剤 精製白糖38mg、L-ヒスチジン0.5mg、ポリソ ルベート80 0.02mg', 'metadata': {'last_modified': '2024-07-30T16:01:57', 'filetype': 'application/pdf', 'languages': ['eng'], 'page_number': 1, 'orig_elements': 'eJx1Uttu2zAM/RVDz7Ej2bo5f7AiAwKsb0kQ6EInHnxDLGMNiv77RLndiqF7IeijQ/IcmsdXAh30MIRL68kuI5WQlXYNz7lTVc4BWK4riJ/KlpTWupZKkE1GegjGm2BizStx43j37WACzOm7M49xCZcbtNdbiEhZVXWseYd/tT7cIsqk4BGdxnYIWHc8MiELscmYYLyoz5vsDyBrUWgEVEzkV8BaEhEyP+YAPXo5tC/Q/ZiMA/IWHzwEcKEdh4vrzDxfpvtoI40WQqoSlTRtB+ExQao9fEebbW+ucJlMEkyKYhsNTEvYPh2yvbHQZYkwZ5O5hxZ7b+PwztxNNrvsyUxmgBmyw7dtMLaDnOWs+DldSVrGcF2wFp0TGK7knNA5XPrRt00L6X+UtOQ5VXlFn5ncUbYTCqsnlDUsvYU7bhLtBXjBXZPTop2pT4vQTRkjpz47LRW1NUYnMULKG/eRK2ngtHCg9rRIB5qL/ppqVGKYxK4SomMzqSj2L7GlLBnFnMr40DRUs/8Vxj33e5xS+sSskywj/xVnfMqTOA8pyrX1aampij15wyJHWBEnK895VFF5i0yu19arAcFLu6pF0b6xKNQkuZJHSDkb+2vdeFyBwuh8PP/VPGX7PE0vPylc3enVFzp6pyai/2varkuHpMp/WrfTmsaTo2WfruDj3J7xPMjb+TezUhDj', 'file_directory': '../data/JP Label', 'filename': 'stelara sc Japanese PI.pdf'}}\n",
      "[['販売名', 'ステラーラ皮下注45mgシリンジ'], ['有効成分', '（1シリンジ0.5mL中）\\nウステキヌマブ（遺伝子組換え）45mg含有'], ['添加剤', '精製白糖38mg、L-ヒスチジン0.5mg、ポリソ\\nルベート80 0.02mg']]\n",
      "\t{'type': 'Table', 'element_id': '3ecca5219eebb1c62d185de371326db4', 'text': '色・性状 無色～淡黄色の澄明又はわずかに混濁した液 pH 5.7～6.3 浸透圧比 約1（生理食塩液に対する比）', 'metadata': {'last_modified': '2024-07-30T16:01:57', 'filetype': 'application/pdf', 'languages': ['eng'], 'page_number': 1, 'orig_elements': 'eJxtkduO2yAQhl8Fcb12wBiw8wTtqpUide+SyAIzJFQ+KcbqRqt99zKkaW96M7a/+f85+fhBYYARptgFR/eEgui908wWum1cUXOQhekFFLXm0tdcCNvX9IXQEaJxJprk+aD9PN9cmEyENX8P5j5vsbtCuFxjIpUQbfL8wb+Ci9dEuZJ1osscpoi+45FLVfIXwrUSZXt+IX9Bo6uyQqAbXcr/gYclEbre1wgj7nII7zD8WEwP9DMlHEToY5inrh/MunbLbbZJxkohGqaTwIcB4n2B7D18xzXDaC7QLSYPTMtylxZYtrh7PZBvxsJAsmAli7nFgLV3qflgboasPXk1i5lgBXL4uovGDlDwoip/LheajzFdNvTi5hSmCz1nusZunF3wAfL/qFhVF0wXgr1xtWd8LzW6Fxxr2kYLN7wkrhfhHW9NT1tT6eq0CebtaVOs0qdNV1aR9OAVf6a9l5DSDhJpoa//2RRy3ySiFEvvUvRN5h5jk6M0GGubObZxXqOr5zmrc/TIbUWWL0SW+tFSlYIg1qlky1iSSI0TKutqnNCxmqOSpbyWPOV1zVTSNg61jWofRZ+NpfWQm7V5OPuolCu0eKjn/3zD+9PP82+yU+Dl', 'file_directory': '../data/JP Label', 'filename': 'stelara sc Japanese PI.pdf'}}\n",
      "[['色・性状', '無色～淡黄色の澄明又はわずかに混濁した液'], ['pH', '5.7～6.3'], ['浸透圧比', '約1（生理食塩液に対する比）']]\n",
      "page 2\n",
      "\t{'type': 'Table', 'element_id': '02aa48d891ea03e89af50e319e24e5f5', 'text': '＊ 5%以上 1～5%未満 1%未満 頻度不明 感染症及び 寄生虫症 鼻咽頭炎 上気道感染 外陰腟真菌 感染、副鼻 腔炎、帯状 疱疹、歯肉 炎 精神障害 うつ病 神経系障害 頭痛、浮動 性めまい 呼吸器、胸 郭及び縦隔 障害 咽喉頭疼痛 鼻閉 好酸球性肺 炎 胃腸障害 悪心、嘔吐 下痢 皮膚及び皮 下組織障害 発疹、そう 痒症 ざ瘡、蕁麻 疹、過敏性 血管炎 膿 疱 性 乾 癬、乾癬性 紅皮症 筋骨格系及 び結合組織 障害 関節痛 筋痛、背部 痛 全身障害及 び投与局所 様態 注射部位反 応、疲労 無力症', 'metadata': {'last_modified': '2024-07-30T16:01:57', 'filetype': 'application/pdf', 'languages': ['eng'], 'page_number': 2, 'orig_elements': 'eJxtVNuK20gQ/ZVGsG+xp++X+YMNCQxs3saD6UvJo8UXYclshpB/36qWJY9NXhpUXefUqVOlfv3VwB4OcBy3XWmeWSODTVFqvZLGh5VWUFbRCLOS0YtkfVu0NM0X1hxgjCWOETG/mnw6nUt3jCMM9XsfP06XcfsO3e59xIhUKiDmGv6vK+M7RoU1GqP9qTuOhHt99UavMdFZvhZvX9j8LbSya0UBYaRayz9FJgxGmuFjGOFAvbx0P2H/Tx8zNL/xosAIeexOx23ex2HY9udTwjS+9s5oUtJ2exg/eqjYl+/UZneIO9j2sQpu1usnbKC/jE9fX9i3mGDPasLA+ngeO+J+wuL7eI5syOxr7OMRBmAvfz+NMe1hJVdq/W+/a6oZx92FsNR5A8dd81ajw7g9nErXdjDNg0u94m6l+A9hn7l4No7QPck6Xg4JzuQvtTfCT/K62Vzalkdm/tpcNIChEz8FhQ1Q1DoZ8QTPmbj/3FyCV2lzMRBtxRW8sBzwwgrRUm5Rm4sz2WGSyohT3Cm8NilruqAkb22akoiwrYQ6FSKXeDruiZBUIWEWSBW4UZ9LEGEQKCFYx5FQGLxwrpKrnB/kKM6xOyNtO5VjFaGnSss1SOKQyTLSlkQ9w3xtE6E994EtCl1OCHfBAAkJmbpMpE1xbem0teVs2Jzlis6Ea9MD4tq5KWkpWCyQ6EJoy6WjCy+qoVW01uSCdkSilcfTWj+jPW890XIonweBJUBW2wKh7yRMIzD4V9/kpDyJWuYUTDXABEfjEg4LOs3VrNDzFG/+eJ4VWU1Zd6UsjyjItPk2HCs0SRB8mnzdD5DEZSMQSYgPjWD8lls0WQ001LtKzrp4P0jFTZkmVOdc5LKJeGMJIcXiIgpCQkiJ3ZMErlEUPk/t1Dk16zVuoktR3PoXqb0uE1vyNLi6O9bmmY1Cc+Sa5Qo3c+9XeS5pGkCM6KbFLZ/3iExhiyvFcPKR+8+mPI46mEhtp8yX8U7snxcQp5frBnm2ZBlBK+Yh3u3vgwYrw/So0P5mcsVKTXO1oZB2oYnKZqCdzVxPRRDR6mlZC1Vqy+IPGijpV0jUiBOy/szh+oTQYze/yT/oDW1+v/0Pbrj+MQ==', 'file_directory': '../data/JP Label', 'filename': 'stelara sc Japanese PI.pdf'}}\n",
      "[['', '5%以上', '1～5%未満', '1%未満', '頻度不明'], ['感染症及び\\n寄生虫症', '鼻咽頭炎', '上気道感染', '外陰腟真菌\\n感染、副鼻\\n腔炎、帯状\\n疱疹、歯肉\\n炎', ''], ['精神障害', '', '', 'うつ病', ''], ['神経系障害', '', '頭痛、浮動\\n性めまい', '', ''], ['呼吸器、胸\\n郭及び縦隔\\n障害', '', '咽喉頭疼痛', '鼻閉', '好酸球性肺\\n炎'], ['胃腸障害', '', '悪心、嘔吐', '下痢', ''], ['皮膚及び皮\\n下組織障害', '', '発疹、そう\\n痒症', 'ざ瘡、蕁麻\\n疹、過敏性\\n血管炎', '膿疱性乾\\n癬、乾癬性\\n紅皮症'], ['筋骨格系及\\nび結合組織\\n障害', '', '関節痛', '筋痛、背部\\n痛', ''], ['全身障害及\\nび投与局所\\n様態', '', '注射部位反\\n応、疲労', '無力症', '']]\n",
      "page 3\n",
      "\t{'type': 'Table', 'element_id': '34ed1b2dabf94b4268ed1707b115609d', 'text': '薬物動態パラメータ 用量 22.5mg※ 45mg 90mg Cmax （μg/mL） 1.44 （1.21～1.70） 2.77 （2.63～3.38） 9.58 （7.23～10.20） Tmax （day） 6.99 （4.76～12.24） 10.48 （4.73～14.00） 10.49 （6.98～13.99） AUC∞ （μg・day/mL） 61.3 （49.2～75.8） 109.4 （96.9～171.9） 242.7 （195.7～272.3）', 'metadata': {'last_modified': '2024-07-30T16:01:57', 'filetype': 'application/pdf', 'languages': ['eng'], 'page_number': 3, 'orig_elements': 'eJxtUklr3DAU/itC5/iNVkvKreTUkMJA01McBtmWHRdvjGWaIeS/V/LInRZ6eUjf8jbp5QO73g1u9KeuxvcIU95QpqjMlG5IJqSSmXW5zEpjXN2UWltO8B3Cg/O2tt4Gzweupulcd6P1btnuvb1Mqz+9ua598wFhnJvgSfCvrvZvAaW5FAGdp2700ffyok0O/A4pDeb1Du1XTjSIeKeSEmD/ATZDAPByWbwb4hzH7t3132dbOfwZiNp5V/luGk9Vb5flNJ+nMsgIaGYUDYKm652/zG7zHr/FEbvBtu40261ZDHAIzc+rPzwe0ZMtXY82wYJme/ZdzH0IxXt7tmip0KOd7egWh45fD96Wvct4JuDn3OJtEWO7Rm+cGruxxa8buvjTMNVd07ntLRhhIiMq4+SZ5veE3ksV3XNsa1yH0p2DisfxvHuPe8bFqqWtilWx3BSrZLUs1pyKslg5qWmMzmxxOzdVjGWDgkEyXayGVg1iDOTQFisjvEQiHJEhITwM9j0Im4YEYaCq9jA8bXeDKAiROAqMxpN0FBRJPAOlEs8g51eeA9eJNyB14hWwxMen3RM834rX9pLAHIxJoACVJxcDJva2CAh9U+x5BRDyl2LPEdLppOAhc1J8+fEQVsGo+3f2bX1l6OW2hJwC34sZYNdUSoL+U8vAvqXwsU2qpSjstZgIi9r3aCSoq4QpBvwqic+//9Ln+Kvw5+tvaCoZhA==', 'file_directory': '../data/JP Label', 'filename': 'stelara sc Japanese PI.pdf'}}\n",
      "[['用量', '22.5mg※', '45mg', '90mg'], ['Cmax\\n（μg/mL）', '1.44\\n（1.21～1.70）', '2.77\\n（2.63～3.38）', '9.58\\n（7.23～10.20）'], ['Tmax\\n（day）', '6.99\\n（4.76～12.24）', '10.48\\n（4.73～14.00）', '10.49\\n（6.98～13.99）'], ['AUC∞\\n（μg・day/mL）', '61.3\\n（49.2～75.8）', '109.4\\n（96.9～171.9）', '242.7\\n（195.7～272.3）']]\n",
      "\t{'type': 'Table', 'element_id': '2962a82618a5a554b64496481fd6e2da', 'text': '投与量 プラセボ 45mg 90mg 12週後PASI75 6.5% （2/31例） 59.4%a） （38/64例） 67.7%a） （42/62例）', 'metadata': {'last_modified': '2024-07-30T16:01:57', 'filetype': 'application/pdf', 'languages': ['eng'], 'page_number': 3, 'orig_elements': 'eJxtkctq5DAQRX9FCLJry3pYktW7WSZkwJDsuhsj22W3gl/YMpMm5N9H8nRgJsymoI7uleqWTh8Yehhg9KVr8BFhyKVVileJEUonmWQisVVFEyWk1C1Tos4ZPiA8gLeN9TZ4PnA9TUvjRuth3fve3qbNl1dw3dUHwoUwwXPHv1zjr4EyJbNA58mNPvpOp9wIwg6IGWaIuhzQF+CUcSIiYJIpkv+P3E0B4fW2ehhimsK9Q/8y2xrwZzhowEPt3TSWdW/XtZyXqQoySnSe6ThL63rwtxl2b/EzBnWD7aCc7T4yJiQNEebNp08FerYV9GgXrGi2i3fx7jQ83tvForVGT3a2I6yAisfU26qHRCSSvM0d3tcxdlv0xuwYxg5fdrr6cpga1zrYf4RTniVUJ4K+MnWk7Ch1dM9xrHEbKliCSsR4Ht7jtvF5U9zI85YBhfNmWN2i8yZoo2MFE2tV7aRGmRw6ZGgojActFey8yTavix8vj1oiReRDMLctzXkaz7I2r/beIGlI9mDvzR+NyFOV/SNSmuhvooyniv8tinG+tv4at4Q/L78BW0TCpg==', 'file_directory': '../data/JP Label', 'filename': 'stelara sc Japanese PI.pdf'}}\n",
      "[['投与量', 'プラセボ', '45mg', '90mg'], ['12週後PASI75', '6.5%\\n（2/31例）', '59.4%a）\\n（38/64例）', '67.7%a）\\n（42/62例）']]\n",
      "page 4\n",
      "\t{'type': 'Table', 'element_id': '03f91014faf7bed39ebd972da890c159', 'text': '投与量 プラセボ 90mg 8週間隔投与 90mg 12週間隔投与 35.9% （47/131例） 53.5%a） （68/127例） 48.8%b） （63/129例）', 'metadata': {'last_modified': '2024-07-30T16:01:57', 'filetype': 'application/pdf', 'languages': ['eng'], 'page_number': 4, 'orig_elements': 'eJyFkd1u4yAQhV8FIeUuxmDAQN5gq10p0vYuiSxsjx1W/kEx1jaq+u4LTiu12ovejHQO34GZ4fSKYYARplC5Fh8QLjqhNJMqq40tM9HZNrMlY1khTQNSUwpNjfcIjxBsa4ONmVfczPOtdZMNsGx6sPd5DdUVXH8N0Sk4NzHzbv91bbhGl5VSRNfPbgopdzoxpYnaI6E4EZc9+tBSC2KS1pQR9r9+8NHAy30JMKY5ju4Fht/eNoDf4kELAZrg5qlqBrsslb/NdcQo0YoWRQQ6N0C4e9iyx19pRDfaHipvt2YxIXls3q8hfzqin7aGAW3Agry9BZfuzuPjg71ZtDToyXo7wQLo+CMPth4gE1lJ/vgeb4uY+jVl09QYph5fNncJ1Ti3rnPw+AtaiIyqjNNnVh4oO0iV0j61Na1jDbdIiTRegJe0Z3xey8LI8yqAwnk1rOnQeeW0VamCSbWuN6dBho490pGinMUqDY+1NOLzHQ+IFd9QXBKziy91HdVC5SyhotP15hgkOZE7+y4eVKlzVqgvlNBE7+qvFI+U+Uyl+T++6TmtFb9d/gH+zM+V', 'file_directory': '../data/JP Label', 'filename': 'stelara sc Japanese PI.pdf'}}\n",
      "[['投与量', 'プラセボ', '90mg\\n8週間隔投与', '90mg\\n12週間隔投与'], ['Clinical remission rate', '35.9%\\n（47/131例）', '53.5%a）\\n（68/127例）', '48.8%b）\\n（63/129例）']]\n",
      "\t{'type': 'Table', 'element_id': '66c7ab89301c8b926bb1b7e37c666cb6', 'text': '投与量 プラセボ 90mg 8週間隔投与 90mg 12週間隔投与 Clinical remission 24.0% （42/175例） 43.8%a） （77/176例） 38.4%b） （66/172例）', 'metadata': {'last_modified': '2024-07-30T16:01:57', 'filetype': 'application/pdf', 'languages': ['eng'], 'page_number': 4, 'orig_elements': 'eJyFkU2L2zAQhv+KEOQWK5Isy3auPXVpIdC9JcHI9thRkT+wZLph2f/ekbMtu1DowQN6/IykeXV+peBggDFUtqVHQnNZZl3Gi4RL3SZK6jwxiBIlso43WYZfTveEDhBMa4LBnlfaTNPS2tEE8Nvamfu0huoGtr8FJDJNS+x5x79sG25Ihc4U0nmyY4h957MoNON7IgRXTF335C+QQjEdQcE5K/8FHi1IqL/7AEOc5WRfwP2YTQP0DX+0EKAJdhqrxhnvq3mZatQ4KzRXEoXOOgj3Gbbe0/c4ph1MD9VstgtTxg44wLyGw9OJfDM1OLIJnsxmCTbufcDDnVkM8Q15MrMZwQM5fT0EUztIVJKzn3NPtzDGfo29cXIKY0+vG/WhGqbWdha295BcqoTnScqfhT5ycXzEP8drjetQw4KWiuMFeIlZ08uq8cEuqwIOl7UUTUcua8rbPFYoY63rjTSk5ENPCrR4KrBmZYpVl+rjHg9JyP9YX5wdbWMcWWCw3mMURCrGd3h41/FCyYPIo9sV9UZKolJW7Mz74mHlOVr6k5UWTO3qT5bWaMmPVozkz8s9x6Tp2/U3oH/WRA==', 'file_directory': '../data/JP Label', 'filename': 'stelara sc Japanese PI.pdf'}}\n",
      "[['投与量', 'プラセボ', '90mg\\n8週間隔投与', '90mg\\n12週間隔投与'], ['Clinical remission', '24.0%\\n（42/175例）', '43.8%a）\\n（77/176例）', '38.4%b）\\n（66/172例）']]\n"
     ]
    }
   ],
   "source": [
    "import numpy as np\n",
    "mapping = dict()\n",
    "for pg, score in scores.items():\n",
    "    print(pg)\n",
    "    info_tbs_p = info_tables_page[pg]\n",
    "    tbs_p = tbs[pg]\n",
    "    mapping[pg] = dict()\n",
    "    for i in range(len(info_tbs_p)):\n",
    "        # print(scores[pg][i], np.argmax(scores[pg][i]))\n",
    "        print(f\"\\t{info_tbs_p[i]}\")\n",
    "        print(f\"{tbs_p[np.argmax(score[i])]}\")\n",
    "        mapping[pg][i] = np.argmax(score[i])"
   ]
  },
  {
   "cell_type": "code",
   "execution_count": 133,
   "id": "1a105e81",
   "metadata": {},
   "outputs": [
    {
     "data": {
      "text/plain": [
       "{'page 1': {0: 2, 1: 3},\n",
       " 'page 2': {0: 0},\n",
       " 'page 3': {0: 0, 1: 1},\n",
       " 'page 4': {0: 0, 1: 1}}"
      ]
     },
     "execution_count": 133,
     "metadata": {},
     "output_type": "execute_result"
    }
   ],
   "source": [
    "mapping"
   ]
  },
  {
   "cell_type": "code",
   "execution_count": null,
   "id": "6c1bc735",
   "metadata": {},
   "outputs": [],
   "source": []
  }
 ],
 "metadata": {
  "jupytext": {
   "cell_metadata_filter": "-all",
   "main_language": "python",
   "notebook_metadata_filter": "-all"
  },
  "kernelspec": {
   "display_name": "jpfaq",
   "language": "python",
   "name": "python3"
  },
  "language_info": {
   "codemirror_mode": {
    "name": "ipython",
    "version": 3
   },
   "file_extension": ".py",
   "mimetype": "text/x-python",
   "name": "python",
   "nbconvert_exporter": "python",
   "pygments_lexer": "ipython3",
   "version": "3.10.0"
  }
 },
 "nbformat": 4,
 "nbformat_minor": 5
}
