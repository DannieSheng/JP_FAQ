{
 "cells": [
  {
   "cell_type": "code",
   "execution_count": 5,
   "metadata": {},
   "outputs": [],
   "source": [
    "import os\n",
    "import requests"
   ]
  },
  {
   "cell_type": "code",
   "execution_count": 6,
   "metadata": {},
   "outputs": [],
   "source": [
    "os.environ[\"OPENAI_API_KEY\"] = \"sk-zk2e65c7b3aa4d285237b360e338e2c174066b0a70704f61\"\n",
    "os.environ[\"BASE_URL\"] = \"https://api.zhizengzeng.com/v1\""
   ]
  },
  {
   "cell_type": "markdown",
   "metadata": {},
   "source": [
    "### Access credit grants\n",
    "https://doc.zhizengzeng.com/doc-3979937"
   ]
  },
  {
   "cell_type": "code",
   "execution_count": 7,
   "metadata": {},
   "outputs": [
    {
     "name": "stdout",
     "output_type": "stream",
     "text": [
      "{\"code\":0,\"msg\":\"ok\",\"object\":\"credit_summary\",\"grants\":{\"available_amount\":\"0.0341\"}}\n"
     ]
    }
   ],
   "source": [
    "BASE_URL = os.environ.get(\"BASE_URL\")\n",
    "API_SECRET_KEY = os.environ.get(\"OPENAI_API_KEY\")\n",
    "\n",
    "# credit_grants\n",
    "def credit_grants():\n",
    "    api_secret_key = API_SECRET_KEY  # 智增增的secret_key\n",
    "    url = BASE_URL+'/dashboard/billing/credit_grants'; # 余额查询url\n",
    "    headers = {'Content-Type': 'application/json', 'Accept':'application/json',\n",
    "               'Authorization': \"Bearer \"+api_secret_key}\n",
    "    resp = requests.post(url, headers=headers)\n",
    "    print(resp.text)\n",
    "    return resp\n",
    "resp = credit_grants()"
   ]
  },
  {
   "cell_type": "code",
   "execution_count": null,
   "metadata": {},
   "outputs": [],
   "source": []
  }
 ],
 "metadata": {
  "kernelspec": {
   "display_name": "jpfaq",
   "language": "python",
   "name": "python3"
  },
  "language_info": {
   "codemirror_mode": {
    "name": "ipython",
    "version": 3
   },
   "file_extension": ".py",
   "mimetype": "text/x-python",
   "name": "python",
   "nbconvert_exporter": "python",
   "pygments_lexer": "ipython3",
   "version": "3.10.12"
  }
 },
 "nbformat": 4,
 "nbformat_minor": 2
}
